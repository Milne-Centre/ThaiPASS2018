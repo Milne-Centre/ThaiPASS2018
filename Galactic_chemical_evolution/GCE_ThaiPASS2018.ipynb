{
 "cells": [
  {
   "cell_type": "markdown",
   "metadata": {},
   "source": [
    "# Galactic Chemical Evolution Activity"
   ]
  },
  {
   "cell_type": "markdown",
   "metadata": {},
   "source": [
    "In this notebook, you will use OMEGA+\n",
    "([Côté et al. 2018](http://adsabs.harvard.edu/abs/2018ApJ...859...67C)), a simple galactic chemical evolution code designed to connect nuclear astrophysics with astronomical observations.\n",
    "\n",
    "**Open-source Python packages**\n",
    "* [NuPyCEE](https://github.com/NuGrid/NuPyCEE) - NuGrid Python Chemical Evolution Environment\n",
    "* [JINAPyCEE](https://github.com/becot85/JINAPyCEE) - JINA Python Chemical Evolution Environment"
   ]
  },
  {
   "cell_type": "code",
   "execution_count": null,
   "metadata": {
    "collapsed": true
   },
   "outputs": [],
   "source": [
    "# Import the OMEGA+ code and standard packages\n",
    "import matplotlib\n",
    "import matplotlib.pyplot as plt\n",
    "import numpy as np\n",
    "from JINAPyCEE import omega_plus\n",
    "from NuPyCEE import stellab"
   ]
  },
  {
   "cell_type": "markdown",
   "metadata": {},
   "source": [
    "# 1. Star Formation and Gas Reservoirs"
   ]
  },
  {
   "cell_type": "markdown",
   "metadata": {},
   "source": [
    "Here you will learn about the interplay between galactic inflows, star formation, and galactic outflows. The model consists of a galaxy surrounded by a large gas reservoir called the circumgalactic medium. The galaxy is composed of gas and stars. The model follows galactic inflows, representing the transfer of gas from the circumgalactic medium into the galaxy, as well as galactic outflows, representing the transfer of gas from the galaxy into the circumgalactic medium.\n",
    "\n",
    "<img src=\"inflow_outflow.tiff\" alt=\"drawing\" width=\"350\"/>\n",
    "\n",
    "The simulation will start with $1.56\\times10^{11}$ M$_\\odot$ of gas inside the circumgalactic medium. Once gas will be introduced inside the galaxy, stars will start to form.  The equation describing the rate of change of the mass of gas **inside** the galaxy is\n",
    "\n",
    "$$\\dot{M}_\\mathrm{gas,in} = \\dot{M}_\\mathrm{inflow} - \\dot{M}_\\star + \\dot{M}_\\mathrm{ej} - \\dot{M}_\\mathrm{outflow} \\mathrm{\\quad[M_\\odot/yr]}$$\n",
    "\n",
    "* $M_\\mathrm{gas,in}$: Mass of gas inside the galaxy.\n",
    "* $\\dot{M}_\\mathrm{inflow}$: Galactic inflow rate.\n",
    "* $\\dot{M}_\\star$: Star formation rate. Conversion of gas into stars.\n",
    "* $\\dot{M}_\\mathrm{ej}$: Stellar ejecta. Mass ejected by stars when they die (ex. supernova explosion).\n",
    "* $\\dot{M}_\\mathrm{outflow}$: Galactic outflow rate."
   ]
  },
  {
   "cell_type": "markdown",
   "metadata": {},
   "source": [
    "### Run the Model\n",
    "Run the cell below to launch the model. **For now, simply run the model without changing the parameters**."
   ]
  },
  {
   "cell_type": "code",
   "execution_count": null,
   "metadata": {
    "collapsed": false
   },
   "outputs": [],
   "source": [
    "# Star formation efficiency.\n",
    "# This is controling how fast the gas inside the galaxy is converted into stars.\n",
    "# You can vary this parameter between 0.001 and 0.05\n",
    "sfe = 0.0\n",
    "\n",
    "# Galactic outflow rate.\n",
    "# You can vary this parameter between 0.0 and 5.0\n",
    "mass_loading = 0.0\n",
    "\n",
    "# !!Do not modify the following line!!\n",
    "# Run OMEGA+ with the first set of parameters\n",
    "o = omega_plus.omega_plus(sfe=sfe, mass_loading=mass_loading, special_timesteps=60, \\\n",
    "                          table='yield_tables/agb_and_massive_stars_K10_K06_0.5HNe.txt', \\\n",
    "                          t_inflow=5e9, t_star=1.0e8, f_halo_to_gal_out=0.0)"
   ]
  },
  {
   "cell_type": "markdown",
   "metadata": {},
   "source": [
    "### Extract the Information"
   ]
  },
  {
   "cell_type": "code",
   "execution_count": null,
   "metadata": {
    "collapsed": false
   },
   "outputs": [],
   "source": [
    "# The equations describing the evolution of the galaxy are solved step by step.\n",
    "\n",
    "# Age of the galaxy at each timestep [Gyr, billion of years].\n",
    "t_sim = o.inner.history.age[:-1]\n",
    "\n",
    "# Print the number of timesteps.\n",
    "print(o.inner.nb_timesteps)"
   ]
  },
  {
   "cell_type": "code",
   "execution_count": null,
   "metadata": {
    "collapsed": false
   },
   "outputs": [],
   "source": [
    "# The mass of the two gas reservoirs is decomposed into isotopes.\n",
    "# To calculate the total mass, at each timestep, you must sum the mass of all isotopes\n",
    "\n",
    "# Print the number of isotopes.\n",
    "print('Number of isotopes =',o.inner.nb_isotopes)\n",
    "\n",
    "# Print the list of isotopes\n",
    "print('List of isotopes =',o.inner.history.isotopes)"
   ]
  },
  {
   "cell_type": "markdown",
   "metadata": {},
   "source": [
    "**Here are the important arrays**:\n",
    "* Mass of isotopes in the gas inside the circumgalactic medium, for each timestep\n",
    "    * **o.ymgal_outer**[ timestep index ][ isotope index ]\n",
    "* Mass of isotopes in the gas inside the galaxy, for each timestep\n",
    "    * **o.inner.ymgal**[ timestep index ][ isotope index ]\n",
    "* Mass of gas converted into stars at each timestep (**this is not the total cumulated mass of stars**)\n",
    "    * **o.inner.history.m_locked**[ timestep index ]\n",
    "* Mass of isotopes ejected by stars at each timestep\n",
    "    * **o.inner.mdot**[ timestep index ][ isotope index ]"
   ]
  },
  {
   "cell_type": "code",
   "execution_count": null,
   "metadata": {
    "collapsed": false
   },
   "outputs": [],
   "source": [
    "# As an example, here is the mass of He-4 in the circumgalactic medium at the 3rd timestep\n",
    "i_step = 2\n",
    "i_isotope = o.inner.history.isotopes.index('He-4')\n",
    "print(o.ymgal_outer[i_step][i_isotope],'Msun')"
   ]
  },
  {
   "cell_type": "markdown",
   "metadata": {},
   "source": [
    "**Your task**. In the cell below, create arrays for plotting the following quantities:\n",
    "* The total mass of gas in the circumgalactic medium (outside the galaxy)\n",
    "* The total mass of gas inside galaxy\n",
    "* The total mass of stars\n",
    "    * **Warning!** You will need to account the mass ejected by stars.\n",
    "    * m_star =  total_mass_of_stars_formed - total_mass_ejected_by_stars"
   ]
  },
  {
   "cell_type": "code",
   "execution_count": null,
   "metadata": {
    "collapsed": false
   },
   "outputs": [],
   "source": [
    "# Declaration of the arrays\n",
    "m_gas_circumgalactic = np.zeros(o.inner.nb_timesteps) # [M_sun]\n",
    "m_gas_galaxy = np.zeros(o.inner.nb_timesteps) # [M_sun]\n",
    "m_star = np.zeros(o.inner.nb_timesteps) # [M_sun]\n",
    "\n",
    "###\n",
    "### Fill the arrays ###\n",
    "###\n",
    "\n",
    "#for i_step in range(o.inner.nb_timesteps):\n",
    "    # ..."
   ]
  },
  {
   "cell_type": "code",
   "execution_count": null,
   "metadata": {
    "collapsed": false
   },
   "outputs": [],
   "source": [
    "###\n",
    "### Fill this cell ###\n",
    "###\n",
    "\n",
    "# Write a script to test whether you filled the arrays correctly.\n",
    "# You need to make sure the total mass is concerved.\n",
    "# The total amount of matter should be the same (within 10% error) from one timestep to another."
   ]
  },
  {
   "cell_type": "code",
   "execution_count": null,
   "metadata": {
    "collapsed": false
   },
   "outputs": [],
   "source": [
    "%matplotlib nbagg\n",
    "plt.plot(t_sim, m_gas_circumgalactic)\n",
    "plt.plot(t_sim, m_gas_galaxy)\n",
    "plt.plot(t_sim, m_star)\n",
    "\n",
    "###\n",
    "### Add legend and axis labels\n",
    "### "
   ]
  },
  {
   "cell_type": "markdown",
   "metadata": {},
   "source": [
    "### Your Exercise\n",
    "* Re-run the model with star formation switched on.\n",
    "    * Explore different \"sfe\" values between 0.001 and 0.05 (re-run OMEGA+, see above).\n",
    "    * Understand the role of star formation, and try to predict what will happen when you change \"sfe\".\n",
    "* Re-run the model with star formation and galactic outflows switched on.\n",
    "    * Set \"sfe = 0.01\"\n",
    "    * Explore different \"mass_loading\" values between 1.0 and 5.0.\n",
    "    * Understand the role of galactic outflows, and try to predict what will happen when you change \"mass_loading\".\n",
    "* Try to find a set of parameters that repect the following criteria:\n",
    "    * About $6\\times10^{10}$ M$_\\odot$ of stars formed.\n",
    "    * The mass of the circumgalactic medium must be larger than $6\\times10^{10}$ M$_\\odot$."
   ]
  },
  {
   "cell_type": "markdown",
   "metadata": {},
   "source": [
    "# 2. Calibration of the Milky Way Model"
   ]
  },
  {
   "cell_type": "markdown",
   "metadata": {},
   "source": [
    "Here you will calibrate your simple Milky Way model against observations.  You only need to work with 2 parameters (star formation and galactic inflows). You need to vary the parameters until you respect all 3 observational constraints. You will then use this calibrated model to investigate the origin of the elements in our galaxy. \n",
    "\n",
    "** Useful information to help you calibrate your model **\n",
    "* The star formation efficiency (sfe) mostly affects [Fe/H].\n",
    "* The amount of galactic inflows (in_mag) mostly affect the total stellar mass formed."
   ]
  },
  {
   "cell_type": "markdown",
   "metadata": {},
   "source": [
    "### Run your model"
   ]
  },
  {
   "cell_type": "code",
   "execution_count": null,
   "metadata": {
    "collapsed": false
   },
   "outputs": [],
   "source": [
    "# Star formation efficiency.\n",
    "# This is controling how fast the gas inside the galaxy is converted into stars.\n",
    "# You can vary this parameter between 0.005 and 0.05\n",
    "sfe = 0.005\n",
    "\n",
    "# Magnitude (strength) of the galactic inflow rate.\n",
    "# A higher \"in_mag\" value means more inflows.\n",
    "# You can vary this parameter between 0.5 and 2.0\n",
    "in_mag = 0.5\n",
    "\n",
    "# !!Do not modify the following line!!\n",
    "# Run OMEGA+ with the first set of parameters\n",
    "o_mw = omega_plus.omega_plus(sfe=sfe, t_star=1.0e8, special_timesteps=90, \\\n",
    "                 exp_infall=[[in_mag*40, 0.0, 0.8e9], [in_mag*5, 1.0e9, 7.0e9]], \\\n",
    "                 table='yield_tables/agb_and_massive_stars_K10_K06_0.5HNe.txt', \\\n",
    "                 mass_loading=0.5, imf_yields_range=[1,40])"
   ]
  },
  {
   "cell_type": "markdown",
   "metadata": {},
   "source": [
    "### Constraint #1 - Total stellar mass formed\n",
    "Your model should form in total in between $4.5\\times10^{10}$ and $5.0\\times10^{10}$ M$_\\odot$ of stars."
   ]
  },
  {
   "cell_type": "code",
   "execution_count": null,
   "metadata": {
    "collapsed": false
   },
   "outputs": [],
   "source": [
    "# Print the total stellar mass formed\n",
    "print(\"Total stellar mass formed:\",'%.2e'%sum(o_mw.inner.history.m_locked),'M_sun')"
   ]
  },
  {
   "cell_type": "markdown",
   "metadata": {},
   "source": [
    "### Constraint #2 - Final star formation rate\n",
    "The final star formation rate (SFR) of your model should be within the cyan/blue vertical band (in between 0.6 and 3.0 M$_\\odot$/yr)."
   ]
  },
  {
   "cell_type": "code",
   "execution_count": null,
   "metadata": {
    "collapsed": false
   },
   "outputs": [],
   "source": [
    "# Plot the evolution of the star formation rate (SFR)\n",
    "%matplotlib nbagg\n",
    "o_mw.inner.plot_star_formation_rate(color='r', marker='o', label='My model')\n",
    "plt.xlabel('Galactic age [yr]')\n",
    "\n",
    "# Plot the observational constraint (cyan color)\n",
    "plt.plot([13e9,13e9], [0.65,3.0], linewidth=6, color='c', alpha=0.5)"
   ]
  },
  {
   "cell_type": "markdown",
   "metadata": {},
   "source": [
    "### Constraint #3 - Solar value [Fe/H=0] by the time the Sun forms\n",
    "Your prediction needs to go through the intersection between the horizontal and vertical dotted lines.\n",
    "\n",
    "This is using the following spectroscopic notation,\n",
    "\n",
    "$$\\mathrm{[Fe/H]}=\\log(n_\\mathrm{Fe}/n_\\mathrm{H})-\\log(n_\\mathrm{Fe}/n_\\mathrm{H})_\\odot$$\n",
    "\n",
    "where n_X is the number density of the element X. [X/Y] ratios, where X and Y can be any elements, are expressed in log-space and are normalized to the solar composition."
   ]
  },
  {
   "cell_type": "code",
   "execution_count": null,
   "metadata": {
    "collapsed": false
   },
   "outputs": [],
   "source": [
    "# Plot the evolution of [Fe/H], the iron abundance of the gas inside the galaxy.\n",
    "%matplotlib nbagg\n",
    "o_mw.inner.plot_spectro(color='r', marker='o', label='My model')\n",
    "plt.xlabel('Galactic age [yr]')\n",
    "plt.xscale('linear')\n",
    "plt.ylim(-2,1)\n",
    "\n",
    "# Plot the solar value (black dotted lines)\n",
    "t_Sun = 13.0e9 - 4.6e9\n",
    "plt.plot([t_Sun,t_Sun], [-2,1], ':k')\n",
    "plt.plot([0,13e9], [0,0], ':k')"
   ]
  },
  {
   "cell_type": "markdown",
   "metadata": {},
   "source": [
    "# 3. Contribution of Different Enrichment Sources"
   ]
  },
  {
   "cell_type": "markdown",
   "metadata": {},
   "source": [
    "Now that you have your Milky Way model calibrated, you can start looking at the evolution of the elements (and also isotopes if you want)."
   ]
  },
  {
   "cell_type": "markdown",
   "metadata": {},
   "source": [
    "### Select your element (or isotope)"
   ]
  },
  {
   "cell_type": "code",
   "execution_count": null,
   "metadata": {
    "collapsed": false
   },
   "outputs": [],
   "source": [
    "# Target element (or isotope)\n",
    "# Element nomenclature: First letter in capital. e.g., C, N, O, Mg, ..\n",
    "# Isotope nomenclature: O-16, Fe-56, ..\n",
    "specie = 'N'\n",
    "\n",
    "# Verify that the target specie is available\n",
    "if specie in o_mw.inner.history.elements or specie in o.inner.history.isotopes:\n",
    "    print('The element/isotope is available.')\n",
    "else:\n",
    "    print('Error - The element/isotope IS NOT available, please select a new one.')"
   ]
  },
  {
   "cell_type": "markdown",
   "metadata": {},
   "source": [
    "### Plot the evolution of the selected element\n",
    "This will show the mass of the element in form of gas **inside the galaxy**. It will also tell you which type of astrnomical events produce the most of this element (or isotope) in the Milky Way galaxy."
   ]
  },
  {
   "cell_type": "code",
   "execution_count": null,
   "metadata": {
    "collapsed": false
   },
   "outputs": [],
   "source": [
    "%matplotlib nbagg\n",
    "o_mw.inner.plot_mass(specie=specie, label='Total mass')\n",
    "o_mw.inner.plot_mass(specie=specie, source='massive', label='Massive stars')\n",
    "o_mw.inner.plot_mass(specie=specie, source='agb', label='Low-mass stars')\n",
    "o_mw.inner.plot_mass(specie=specie, source='sn1a', label='Type Ia supernovae')\n",
    "plt.xlabel('Galactic age [yr]')\n",
    "plt.ylabel('Mass of '+specie)\n",
    "#plt.xscale('linear')\n",
    "#plt.ylim(1e3,6e7)"
   ]
  },
  {
   "cell_type": "markdown",
   "metadata": {},
   "source": [
    "# 4. Chemical Evolution Trends [Mg/Fe] - vs - [Fe/H] "
   ]
  },
  {
   "cell_type": "markdown",
   "metadata": {},
   "source": [
    "Here you are comparing your Milky Way model against observations. This is for the evolution of elemental ratios as a function of time (or as a function of [Fe/H]..) throughout the history of the Milky Way."
   ]
  },
  {
   "cell_type": "code",
   "execution_count": null,
   "metadata": {
    "collapsed": true
   },
   "outputs": [],
   "source": [
    "# Load the stellar abundance data\n",
    "s = stellab.stellab()\n",
    "\n",
    "# Create a list of reference observational papers.\n",
    "obs = ['stellab_data/milky_way_data/Cohen_et_al_2013_stellab',\\\n",
    "       'stellab_data/milky_way_data/Jacobson_et_al_2015_stellab',\\\n",
    "       'stellab_data/milky_way_data/Venn_et_al_2004_stellab',\\\n",
    "       'stellab_data/milky_way_data/Bensby_et_al_2014_stellab',\\\n",
    "       'stellab_data/milky_way_data/Nissen_et_al_2014_stellab',\\\n",
    "       'stellab_data/milky_way_data/Battistini_Bensby_2015_stellab',\\\n",
    "       'stellab_data/milky_way_data/Battistini_Bensby_2016_stellab']"
   ]
  },
  {
   "cell_type": "code",
   "execution_count": null,
   "metadata": {
    "collapsed": false
   },
   "outputs": [],
   "source": [
    "# Select your abundance ratios.\n",
    "xaxis = '[Fe/H]'\n",
    "yaxis = '[Mg/Fe]'\n",
    "\n",
    "# Plot data using your selection of data points\n",
    "%matplotlib nbagg\n",
    "s.plot_spectro(xaxis=xaxis, yaxis=yaxis, norm='Asplund_et_al_2009', obs=obs)\n",
    "\n",
    "# Extract the numerical prediction of OMEGA+ using the \"return_x_y\" argument.\n",
    "xy_o = o_mw.inner.plot_spectro(xaxis=xaxis, yaxis=yaxis, return_x_y=True, solar_norm='Asplund_et_al_2009')\n",
    "plt.plot(xy_o[0], xy_o[1], color='w', linewidth=3.0)\n",
    "plt.plot(xy_o[0], xy_o[1], color='k', linewidth=1.5, label='Your model')\n",
    "\n",
    "# Set the range of the x and y axis\n",
    "plt.legend(loc='center left', bbox_to_anchor=(1.01, 0.5), markerscale=0.8, fontsize=14)\n",
    "plt.xlim(-4.5,0.75)\n",
    "plt.ylim(-1.0,1.)"
   ]
  },
  {
   "cell_type": "markdown",
   "metadata": {},
   "source": [
    "### Your Exercise\n",
    "* 1) Understand why **[Mg/Fe]-vs-[Fe/H]** is bending down and decreasing at [Fe/H] > -1.\n",
    "    * The analysis plots shown in the previous sections will be useful.\n",
    "* 2) Understand why **[C/O]-vs-[Fe/H]** is increasing at [Fe/H] > -2.\n",
    "    * Don't worry too much if the fit is not perfect.\n",
    "* 3) Understand why **[Ca/Si]-vs-[Fe/H]** is increasing at [Fe/H] > -2.\n",
    "    * Don't worry too much if the fit is not perfect.\n",
    "* 4) Can you explain why **[Ti/Fe]-vs-[Fe/H]** does not fit?\n",
    "    * By only looking at the observed data, can you guess in which stars Ti should be produced?"
   ]
  },
  {
   "cell_type": "code",
   "execution_count": null,
   "metadata": {
    "collapsed": true
   },
   "outputs": [],
   "source": [
    "# Make your plots and analysis here ..\n",
    "# Also write you answers"
   ]
  },
  {
   "cell_type": "markdown",
   "metadata": {},
   "source": [
    "# 5. The Origin of \"Light\" Elements in our Solar System"
   ]
  },
  {
   "cell_type": "markdown",
   "metadata": {},
   "source": [
    "Besides stellar abundances data, the abundance distribution of the Sun can be used to understand the origin of the elements. The solar composition represents only one timeframe in the history of the Milky Way, but the advantage is that there is data for all the stable elements and isotopes. Here you will compare your chemical evolution predictions with the solar composition."
   ]
  },
  {
   "cell_type": "code",
   "execution_count": null,
   "metadata": {
    "collapsed": true
   },
   "outputs": [],
   "source": [
    "# Load the functions for extracting abundances distributions\n",
    "%run script_solar_ab.py"
   ]
  },
  {
   "cell_type": "markdown",
   "metadata": {},
   "source": [
    "## 5.1 The Role of Type Ia Supernovae"
   ]
  },
  {
   "cell_type": "markdown",
   "metadata": {},
   "source": [
    "Here you will vary the number of Type Ia Supernovae until you match the solar composition."
   ]
  },
  {
   "cell_type": "markdown",
   "metadata": {},
   "source": [
    "### Run the model"
   ]
  },
  {
   "cell_type": "code",
   "execution_count": null,
   "metadata": {
    "collapsed": false
   },
   "outputs": [],
   "source": [
    "# Number of Type Ia supernova per units of stellar mass formed.\n",
    "# You can vary this parameters between 1.0e-4 and 1.0e-1\n",
    "nb_1a_per_m = 1e-1\n",
    "\n",
    "# Run OMEGA+ with your set of parameters (simple Milky Way model).\n",
    "o_51 = omega_plus.omega_plus(sfe=sfe, t_star=1.0e8, special_timesteps=120, \\\n",
    "                 exp_infall=[[in_mag*40, 0.0, 0.8e9], [in_mag*5, 1.0e9, 7.0e9]], \\\n",
    "                 table='yield_tables/agb_and_massive_stars_K10_K06_0.5HNe.txt', \\\n",
    "                 mass_loading=0.5, imf_yields_range=[1,40], nb_1a_per_m=nb_1a_per_m)"
   ]
  },
  {
   "cell_type": "code",
   "execution_count": null,
   "metadata": {
    "collapsed": false
   },
   "outputs": [],
   "source": [
    "###\n",
    "### Fill the cell ###\n",
    "###\n",
    "\n",
    "# Write a script to find the timestep where the Sun should form.\n",
    "# You need to look in the metallicity array and find the timestep\n",
    "# index where the metallicity is the closest to the solar value (0.014).\n",
    "# Don't find it by hand, write a script to find it.\n",
    "#\n",
    "# Metallicity array --> o_51.inner.history.metallicity[ timestep index ]\n",
    "\n",
    "# Timestep index where the Sun should aproximately form.\n",
    "# i_t_Sun = place your index here"
   ]
  },
  {
   "cell_type": "code",
   "execution_count": null,
   "metadata": {
    "collapsed": true
   },
   "outputs": [],
   "source": [
    "# Get source contributions.\n",
    "# This will use the i_t_Sun parameter found in the previous cell.\n",
    "m_el_all, m_el_agb, m_el_massive, m_el_sn1a, m_el_nsm = \\\n",
    "    get_individual_sources(o_51.inner, i_step_sol=i_t_Sun)"
   ]
  },
  {
   "cell_type": "markdown",
   "metadata": {},
   "source": [
    "### Plot the abundance distribution\n",
    "You do not need to change anything in the cell below."
   ]
  },
  {
   "cell_type": "code",
   "execution_count": null,
   "metadata": {
    "collapsed": false
   },
   "outputs": [],
   "source": [
    "# Define the figure size\n",
    "%matplotlib nbagg\n",
    "fig = plt.figure(figsize=(8,4.0))\n",
    "matplotlib.rcParams.update({'font.size': 14.0})\n",
    "\n",
    "# Plot solar abundance data\n",
    "plt.plot(solar_Z, solar_ab, color='k', marker='o', linewidth=4, alpha=0.5, label='Solar')\n",
    "\n",
    "# All sources combined\n",
    "plt.plot(Z_charge, m_el_all, color='orange', label='All sources', alpha=1.0, linestyle='-', linewidth=2)\n",
    "\n",
    "# Type Ia supernovae\n",
    "plt.plot(Z_charge, m_el_sn1a, color='g', label='SNe Ia', alpha=0.8, linestyle='-', marker='s')\n",
    "\n",
    "# Massive stars (core-collapse supernovae)\n",
    "plt.plot(Z_charge, m_el_massive, color='b', label='Massive', alpha=0.8, linestyle='-', marker='^')\n",
    "\n",
    "# Add element annotations\n",
    "for i in range(0,nb_elements):\n",
    "    plt.annotate(elements[i], xy=(solar_Z[i],yy[i]), color='k',\\\n",
    "                 fontsize=13, ha='center', va='center')\n",
    "\n",
    "# Label and axis\n",
    "plt.legend(fontsize=13, loc='center left', bbox_to_anchor=(1, 0.5))\n",
    "plt.xlabel('Z (charge number)', fontsize=16)\n",
    "plt.ylabel('X (mass fraction)', fontsize=16)\n",
    "plt.xlim(19.5,30.5)\n",
    "plt.ylim(1e-9,3e-1)\n",
    "plt.yscale('log')\n",
    "\n",
    "# Frame tuning\n",
    "plt.subplots_adjust(top=0.95)\n",
    "plt.subplots_adjust(right=0.75)\n",
    "plt.subplots_adjust(left=0.15)\n",
    "plt.subplots_adjust(bottom=0.14)"
   ]
  },
  {
   "cell_type": "markdown",
   "metadata": {},
   "source": [
    "### Your Exercise\n",
    "* 1) Modify the number of Type Ia supernovae in your model until your reproduce the solar composition for **Fe, Co, and Ni**.\n",
    "* 2) How many Type Ia supernovae you need in total in the Milky Way to have enough Fe, Co, and Ni?\n",
    "    * The number of Type Ia supernovae occuring during each timestep is stored in the following array.\n",
    "    * **o_51.inner.history.sn1a_numbers**[ timestep index ]"
   ]
  },
  {
   "cell_type": "markdown",
   "metadata": {},
   "source": [
    "# 6. The Origin of Neutron-Capture Elements in our Solar System"
   ]
  },
  {
   "cell_type": "markdown",
   "metadata": {
    "collapsed": true
   },
   "source": [
    "In the following, you will assume that neutron star mergers are the only source of r-process elements in the Milky Way.  This may not be true, as core-collapse supernovae from massive stars could also contribute."
   ]
  },
  {
   "cell_type": "code",
   "execution_count": null,
   "metadata": {
    "collapsed": false
   },
   "outputs": [],
   "source": [
    "# Number of neutron star mergers per units of stellar mass formed.\n",
    "# You can vary this parameters between 1.0e-6 and 1.0e-4\n",
    "nb_nsm_per_m = 1.0e-6\n",
    "\n",
    "# Run OMEGA+ with your set of parameters (simple Milky Way model).\n",
    "r_process_yields = 'yield_tables/r_process_arnould_2007.txt'\n",
    "o_6 = omega_plus.omega_plus(sfe=sfe, t_star=1.0e8, special_timesteps=120, \\\n",
    "                 exp_infall=[[in_mag*40, 0.0, 0.8e9], [in_mag*5, 1.0e9, 7.0e9]], \\\n",
    "                 mass_loading=0.5, imf_yields_range=[1,40], nb_1a_per_m=nb_1a_per_m, \\\n",
    "                 ns_merger_on=True, nb_nsm_per_m=nb_nsm_per_m, t_nsm_coal=1.0e8, \\\n",
    "                 nsmerger_table=r_process_yields)\n",
    "\n",
    "# Get source contributions (this needs to be right after running OMEGA+)\n",
    "m_el_all_6, m_el_agb_6, m_el_massive_6, m_el_sn1a_6, m_el_nsm_6 = \\\n",
    "    get_individual_sources(o_6.inner, i_step_sol=i_t_Sun)"
   ]
  },
  {
   "cell_type": "code",
   "execution_count": null,
   "metadata": {
    "collapsed": false
   },
   "outputs": [],
   "source": [
    "# Define the figure size\n",
    "%matplotlib nbagg\n",
    "fig = plt.figure(figsize=(8,4.0))\n",
    "matplotlib.rcParams.update({'font.size': 14.0})\n",
    "\n",
    "# Plot solar abundance data\n",
    "plt.plot(solar_Z, solar_ab, color='k', marker='o', linewidth=4, alpha=0.5, label='Solar')\n",
    "\n",
    "# All sources combined\n",
    "plt.plot(Z_charge, m_el_all_6, color='orange', label='All sources', alpha=1.0, linestyle='-', linewidth=2)\n",
    "\n",
    "# AGB stars\n",
    "plt.plot(Z_charge, m_el_agb_6, color='r', label='AGB', alpha=0.8, linestyle='-', marker='x')\n",
    "\n",
    "# Neutron star mergers (r-process)\n",
    "plt.plot(Z_charge, m_el_nsm_6, color='c', label='NS mergers', alpha=0.8, linestyle='-', marker='^')\n",
    "\n",
    "# Add element annotations\n",
    "for i in range(0,nb_elements):\n",
    "    plt.annotate(elements[i], xy=(solar_Z[i],yy[i]), color='k',\\\n",
    "                 fontsize=13, ha='center', va='center')\n",
    "\n",
    "# Label and axis\n",
    "plt.legend(fontsize=13, frameon=False)\n",
    "plt.xlabel('Z (charge number)', fontsize=16)\n",
    "plt.ylabel('X (mass fraction)', fontsize=16)\n",
    "plt.xlim(30.5,82.5)\n",
    "plt.ylim(1e-11,1e-4)\n",
    "plt.yscale('log')\n",
    "\n",
    "# Frame tuning\n",
    "plt.subplots_adjust(top=0.95)\n",
    "plt.subplots_adjust(right=0.95)\n",
    "plt.subplots_adjust(left=0.15)\n",
    "plt.subplots_adjust(bottom=0.14)"
   ]
  },
  {
   "cell_type": "markdown",
   "metadata": {},
   "source": [
    "### Your Exercise\n",
    "* 1) Modify the number of neutron star merger in your model until your reproduce the solar composition for **Te, I, Xe, Os, Ir, Pt, and Au**.  You can zoom-in in the plot above\n",
    "* 2) How many neutron star merger you need in total in the Milky Way to have enough gold (Au)?\n",
    "    * The number of neutron star merger occuring during each timestep is stored in the following array.\n",
    "    * **o_6.inner.history.nsm_numbers**[ timestep index ]"
   ]
  },
  {
   "cell_type": "markdown",
   "metadata": {},
   "source": [
    "# 7. Isotopic Composition of the Sun"
   ]
  },
  {
   "cell_type": "markdown",
   "metadata": {},
   "source": [
    "At the time the Sun forms in your model, when you fit the abundance of an element, do you also fit the isotopic distribution for that element?\n",
    "\n",
    "If you are interested in this task, and if you have time, raise your hand and I will explain."
   ]
  },
  {
   "cell_type": "code",
   "execution_count": null,
   "metadata": {
    "collapsed": true
   },
   "outputs": [],
   "source": [
    "# Extract the list of isotopes mass fraction for the Sun\n",
    "iso_A09_name = []\n",
    "iso_A09_f = []\n",
    "with open('Asplund_et_al_2009_iso.txt') as ff:\n",
    "    for line in ff:\n",
    "        line_split = [str(x) for x in line.split()]\n",
    "        iso_A09_name.append(line_split[0])\n",
    "        iso_A09_f.append(float(line_split[1])/100.0)\n",
    "ff.close()"
   ]
  },
  {
   "cell_type": "code",
   "execution_count": null,
   "metadata": {
    "collapsed": false
   },
   "outputs": [],
   "source": [
    "# For each isotope in the Sun, this is the mass contribution to the total mass of the associated element.\n",
    "# For example, \"Ca-40 0.96941\" means that the Ca-40 isotope represent 96.941% of the mass of the Ca element.\n",
    "for i_iso in range(len(iso_A09_name)):\n",
    "    print(iso_A09_name[i_iso], iso_A09_f[i_iso])"
   ]
  },
  {
   "cell_type": "code",
   "execution_count": null,
   "metadata": {
    "collapsed": true
   },
   "outputs": [],
   "source": []
  }
 ],
 "metadata": {
  "kernelspec": {
   "display_name": "Python 3",
   "language": "python",
   "name": "python3"
  },
  "language_info": {
   "codemirror_mode": {
    "name": "ipython",
    "version": 3
   },
   "file_extension": ".py",
   "mimetype": "text/x-python",
   "name": "python",
   "nbconvert_exporter": "python",
   "pygments_lexer": "ipython3",
   "version": "3.4.8"
  }
 },
 "nbformat": 4,
 "nbformat_minor": 0
}
