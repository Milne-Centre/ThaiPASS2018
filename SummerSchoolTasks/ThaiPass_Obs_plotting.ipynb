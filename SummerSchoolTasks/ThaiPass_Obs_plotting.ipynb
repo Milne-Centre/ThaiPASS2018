{
 "cells": [
  {
   "cell_type": "markdown",
   "metadata": {},
   "source": [
    "## ThaiPass Observational Plotting Notebook\n",
    "\n",
    "\n",
    "The previous two notebooks have introduced you to the basics of python. In this notebook, we will be using those basic skills to produce a graph using real astronomical data.\n",
    "\n",
    "You will find some data included with the starter pack. The names of the files are:\n",
    "\n",
    "M13.csv\n",
    "\n",
    "NGC2420.csv\n",
    "\n",
    "NGC6791.csv\n",
    "\n",
    "Each of these contains data on many stars - their colour and how bright they are.\n",
    "\n",
    "## Task One ##\n",
    "\n",
    "First, load the data from these three files. find out how long the files are, how many colums each has and the names of those columns. Write your code in the cell below.\n",
    "\n",
    "Remember to use something like **genfromtxt** or **pandas** to load the data, and functions like **len** and **shape** to find the dimenstions of the data. The delimiter for this file is a comma ',' which will need to be specified when you load the data.\n",
    "\n",
    "Give your data a meaningful title, so that you can tell them appart"
   ]
  },
  {
   "cell_type": "code",
   "execution_count": null,
   "metadata": {
    "collapsed": true
   },
   "outputs": [],
   "source": []
  },
  {
   "cell_type": "markdown",
   "metadata": {},
   "source": [
    "## Task Two ##\n",
    "\n",
    "Now that you have loaded the data, we will have to manipulate it to get the information we need.\n",
    "\n",
    "We want two of the columns from this data: g and r. For each of the data sets, make an array of the g and r values from these files. You may also wish to make arrays of the other data in the file if you are interested in exploring the data more."
   ]
  },
  {
   "cell_type": "code",
   "execution_count": null,
   "metadata": {
    "collapsed": true
   },
   "outputs": [],
   "source": []
  },
  {
   "cell_type": "markdown",
   "metadata": {},
   "source": [
    "## Task Three ##\n",
    "\n",
    "Now that you have the data that you need, make a **scatter** plot of this data for each of the files. Make the **marker size** quite small (the data is quite closely grouped) around 0.05 is a good size to start with. Plot r on the y axis, and $g-r$ on the x.\n",
    "\n",
    "Once this is done, set **limits** on the x and y axis where most of the data is found (some of the data is not physical, so you'll have to decide which ones to not include).\n",
    "\n",
    "Also include **labels** on your axis, for easy reading.\n",
    "\n",
    "How do the three plots compare? are there any similarities or differences?"
   ]
  },
  {
   "cell_type": "code",
   "execution_count": null,
   "metadata": {
    "collapsed": true
   },
   "outputs": [],
   "source": []
  },
  {
   "cell_type": "markdown",
   "metadata": {},
   "source": [
    "## Task Four\n",
    "\n",
    "Using the data loaded above we will attempt a new type of plot, a 2-d histogram. This will allow for data points to be grouped into bins. These bins will show different colours for different amounts of data within.\n",
    "\n",
    "We will be using this to briefly explain how to read and use documentation.\n",
    "\n",
    "The following link is the documentation for 2-d histograms: https://matplotlib.org/api/_as_gen/matplotlib.pyplot.hist2d.html\n",
    "\n",
    "As this function is part of matplotlib we will need to import the correct modules (matplotlib.pyplot).\n",
    "At the start of the documentation we can see the keywords that fit this specific function. These keywords are further explained below the initial keyword listing. Specific examples of how the code functions can often be found after the important information about key values.\n",
    "\n",
    "Some keywords are general over multiple functions (such as plotting styles) and are denoted by **kwargs\n",
    "\n",
    "Using the above data create a 2-d histogram with right ascension on the x axis and declination on the y-axis.\n",
    "This will give a positional plot of the three clusters of stars."
   ]
  },
  {
   "cell_type": "code",
   "execution_count": null,
   "metadata": {
    "collapsed": true
   },
   "outputs": [],
   "source": []
  },
  {
   "cell_type": "markdown",
   "metadata": {},
   "source": [
    "Using the same axis as the above task plot the stars positions with an overlay of $g-r$. This array has already been created as part of task 3.\n",
    "\n",
    "This plot should be performed with scatter, using the keyword color and cmap. Ensure that your g-r, right ascension and declination arrays are the same length."
   ]
  },
  {
   "cell_type": "code",
   "execution_count": null,
   "metadata": {
    "collapsed": true
   },
   "outputs": [],
   "source": []
  },
  {
   "cell_type": "markdown",
   "metadata": {},
   "source": [
    "As a final task set your marker size to be defined by the luminosity of the star. This data can be found in the file.\n",
    "\n",
    "Again ensure that your arrays are all the same length."
   ]
  },
  {
   "cell_type": "code",
   "execution_count": null,
   "metadata": {
    "collapsed": true
   },
   "outputs": [],
   "source": []
  }
 ],
 "metadata": {
  "kernelspec": {
   "display_name": "Python 3",
   "language": "python",
   "name": "python3"
  },
  "language_info": {
   "codemirror_mode": {
    "name": "ipython",
    "version": 3
   },
   "file_extension": ".py",
   "mimetype": "text/x-python",
   "name": "python",
   "nbconvert_exporter": "python",
   "pygments_lexer": "ipython3",
   "version": "3.6.3"
  }
 },
 "nbformat": 4,
 "nbformat_minor": 2
}
