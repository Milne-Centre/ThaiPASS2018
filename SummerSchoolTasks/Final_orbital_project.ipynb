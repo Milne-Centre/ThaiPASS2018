{
 "cells": [
  {
   "cell_type": "markdown",
   "metadata": {
    "deletable": true,
    "editable": true
   },
   "source": [
    "# Forward Euler Solver for Kepler's Laws #\n",
    "\n",
    "We are going to first use a numerical method to integrate a function.\n",
    "\n",
    "Starting with a simple derivative:\n",
    "\n",
    "$\\frac{dy}{dx} = x$\n",
    "\n",
    "we know from basic calculus that if we integrate with respect to x, we recover:\n",
    "\n",
    "$y = \\frac{x^2}{2} + C$\n",
    "\n",
    "as this is a simple function, we can do this analytically, we can then plot this function:\n",
    "\n",
    "\n"
   ]
  },
  {
   "cell_type": "code",
   "execution_count": 29,
   "metadata": {
    "collapsed": false,
    "deletable": true,
    "editable": true
   },
   "outputs": [
    {
     "data": {
      "image/png": "[encoded data removed]",
      "text/plain": [
       "<Figure size 432x288 with 1 Axes>"
      ]
     },
     "metadata": {},
     "output_type": "display_data"
    }
   ],
   "source": [
    "import numpy as np\n",
    "import matplotlib.pyplot as plt\n",
    "\n",
    "y_array = []\n",
    "x_array = np.linspace(1,10,100)\n",
    "\n",
    "for i in x_array:\n",
    "    y_array.append((i**2)/2)\n",
    "    \n",
    "plt.plot(x_array,y_array)\n",
    "plt.show()"
   ]
  },
  {
   "cell_type": "markdown",
   "metadata": {
    "deletable": true,
    "editable": true
   },
   "source": [
    "But what if our function is not as simple?\n",
    "\n",
    "We can use the euler method to perform this operation.\n",
    "\n",
    "If we know our initial conditions, we can use the euler method described in the previous slides.\n",
    "\n",
    "For our function, the initial conditions we have are that for:\n",
    "\n",
    "$x = 0$, \n",
    "\n",
    "$y(0) = 0$ \n",
    "\n",
    "we set C = 0 for this example - in real world applications, this may not always be the case!\n",
    "\n",
    "Task - write a linear solver to find the integral of:\n",
    "\n",
    "$\\frac{dy}{dx} = x$\n",
    "\n",
    "between x = 0 and x = 10. Your initial conditions are given in the cell.\n",
    "\n",
    "You will need to look at the slides to help you with this.\n"
   ]
  },
  {
   "cell_type": "code",
   "execution_count": 28,
   "metadata": {
    "collapsed": true,
    "deletable": true,
    "editable": true
   },
   "outputs": [],
   "source": [
    "y_0 = 0\n",
    "x_0 = 0\n",
    "h   = \n",
    "\n",
    "# Write solver here:\n",
    "\n",
    "\n",
    "\n",
    "\n",
    "\n",
    "\n"
   ]
  },
  {
   "cell_type": "markdown",
   "metadata": {
    "deletable": true,
    "editable": true
   },
   "source": [
    "Now that you have a working solver, see what the effect of changing the h parameter is on the accuracy of your result. this could be done in a for loop, but other methods are possible. You will have to plot the results for different h, along with the analytical result, either on the same plot or in a multiplot."
   ]
  },
  {
   "cell_type": "code",
   "execution_count": null,
   "metadata": {
    "collapsed": true,
    "deletable": true,
    "editable": true
   },
   "outputs": [],
   "source": []
  },
  {
   "cell_type": "markdown",
   "metadata": {
    "deletable": true,
    "editable": true
   },
   "source": [
    "For our final task, we are going to make a function which solves the ordinary differential equation of velocity in an orbit.\n",
    "\n",
    "So long as we know the initial conditions of our system, we can find the solution of our equation by finding the tangent to the slope at small intervals along that slope.\n",
    "\n",
    "First, define two functions. The first should return the equation:\n",
    "\n",
    "\n",
    "$  \\frac{dx}{dt} = v = \\sqrt{{\\frac{2GM}{(x^2 + y^2)^\\frac{1}{2}}}}$\n",
    "\n",
    "\n",
    "for a circular orbit in the plane\n",
    "\n",
    "with x, y and M as arguments to the function.\n",
    "\n",
    "\n",
    "The second should return the numerical derivative of this function. Recall that the numerical derivative is given  by:\n",
    "\n",
    "$f^{'}(t) = \\frac{dv}{dt}= \\frac{f(r+\\delta) - f(r)}{\\delta}$ "
   ]
  },
  {
   "cell_type": "code",
   "execution_count": null,
   "metadata": {
    "collapsed": true,
    "deletable": true,
    "editable": true
   },
   "outputs": [],
   "source": []
  },
  {
   "cell_type": "markdown",
   "metadata": {
    "deletable": true,
    "editable": true
   },
   "source": [
    "Now that we have the function and its derivative, we are able to use these to calculate the velocity of an orbiting body for a given x, y and m.\n",
    "\n",
    "The forward Euler method states that, given the initial conditions of an ordinaty differential equation, $y_{0} = f(x_{0})$, subsequent values of y can be calculated by the following method:\n",
    "\n",
    "$y_{n+1} = y_{n} + hf^{'}(x_{n})$\n",
    "\n",
    "We can continue to solve for n+1 itteratively from our initial conditions, alowing us to calculate (for the Kepler example) the motion of a particle for any interval of time (although there are problems with the Euler method).\n",
    "\n",
    "The positions x and y and the velocities in the x and y directions ($v_{x}$ and $v_{y}$) are the four variables which we need to complete this task, along with the acceleration in the x and y directions, for which we wil calculate the numerical derivative.\n",
    "\n",
    "Our initial x possition will be 0, and our initial y possition 1 AU. Our initial $v_x$ will be 30 km/s, and $v_y$ is 0.\n",
    "\n",
    "You will have to calculate, for each time step, the velocities $v_x$ and $v_y$ and the accelerations in the x and y direction, and use these in your solver to determine the new positions and velocities for the next step.\n",
    "\n",
    "Put simply:\n",
    "\n",
    "1. Calculate the numerical derivative of the velocity equation\n",
    "2. Use the velocity equation and this acceleration, along with the time step, to determine new x,y,vx and vy\n",
    "3. Itterate over an array of times intil an end time, t= 5e7 seconds\n",
    "4. Plot the positions you generate with this method\n",
    "\n",
    "This is a difficult task, but don't give up!\n"
   ]
  },
  {
   "cell_type": "code",
   "execution_count": null,
   "metadata": {
    "collapsed": true,
    "deletable": true,
    "editable": true
   },
   "outputs": [],
   "source": [
    "\n"
   ]
  }
 ],
 "metadata": {
  "kernelspec": {
   "display_name": "Python 2",
   "language": "python",
   "name": "python2"
  },
  "language_info": {
   "codemirror_mode": {
    "name": "ipython",
    "version": 2
   },
   "file_extension": ".py",
   "mimetype": "text/x-python",
   "name": "python",
   "nbconvert_exporter": "python",
   "pygments_lexer": "ipython2",
   "version": "2.7.13"
  }
 },
 "nbformat": 4,
 "nbformat_minor": 2
}
